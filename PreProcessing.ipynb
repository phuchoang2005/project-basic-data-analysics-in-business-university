{
  "cells": [
    {
      "cell_type": "markdown",
      "metadata": {
        "id": "y0-pLEN7JMZo"
      },
      "source": [
        "## Đọc dữ liệu"
      ]
    },
    {
      "cell_type": "code",
      "execution_count": null,
      "metadata": {},
      "outputs": [],
      "source": [
        "# https://www.kaggle.com/datasets/nourajo/quantum-computing-companies-stock-data"
      ]
    },
    {
      "cell_type": "code",
      "execution_count": 11,
      "metadata": {
        "colab": {
          "base_uri": "https://localhost:8080/",
          "height": 423
        },
        "id": "cttd64UdAdzS",
        "outputId": "36672dc0-6673-4004-9a8f-6e65121587a7"
      },
      "outputs": [],
      "source": [
        "from pandas import read_csv\n",
        "df = read_csv(\"quantumstock1.csv\",usecols=['Date','adjclose','ticker'])"
      ]
    },
    {
      "cell_type": "markdown",
      "metadata": {
        "id": "Zw1uUtRPJOPj"
      },
      "source": [
        "## EDA"
      ]
    },
    {
      "cell_type": "code",
      "execution_count": 12,
      "metadata": {
        "colab": {
          "base_uri": "https://localhost:8080/"
        },
        "id": "L8sYbl8kFWw9",
        "outputId": "2a6ba958-3fc0-4892-f3aa-5ec4fdad057b"
      },
      "outputs": [
        {
          "data": {
            "text/plain": [
              "(136518, 3)"
            ]
          },
          "execution_count": 12,
          "metadata": {},
          "output_type": "execute_result"
        }
      ],
      "source": [
        "df.shape"
      ]
    },
    {
      "cell_type": "code",
      "execution_count": 13,
      "metadata": {
        "colab": {
          "base_uri": "https://localhost:8080/"
        },
        "id": "2UI_azNtDkHH",
        "outputId": "65db6313-f032-4908-befa-b7212de4ea36"
      },
      "outputs": [
        {
          "name": "stdout",
          "output_type": "stream",
          "text": [
            "Date         0\n",
            "adjclose    45\n",
            "ticker       0\n",
            "dtype: int64\n"
          ]
        }
      ],
      "source": [
        "print(df.isnull().sum())"
      ]
    },
    {
      "cell_type": "markdown",
      "metadata": {
        "id": "pqfHtUG2FMZc"
      },
      "source": [
        "## Loại 45 dòng chứa dữ liệu Null"
      ]
    },
    {
      "cell_type": "code",
      "execution_count": 14,
      "metadata": {
        "colab": {
          "base_uri": "https://localhost:8080/",
          "height": 1000
        },
        "id": "6uRvXOV-DmlI",
        "outputId": "6dcea3b4-c0e6-45e3-eba7-612239343e62"
      },
      "outputs": [],
      "source": [
        "null_rows_df = df[df.isnull().any(axis=1)]"
      ]
    },
    {
      "cell_type": "code",
      "execution_count": 15,
      "metadata": {
        "colab": {
          "base_uri": "https://localhost:8080/"
        },
        "id": "2F44Tqk9FIfB",
        "outputId": "092df103-527a-45d6-fe31-07e4583d1d4c"
      },
      "outputs": [
        {
          "data": {
            "text/plain": [
              "(136473, 3)"
            ]
          },
          "execution_count": 15,
          "metadata": {},
          "output_type": "execute_result"
        }
      ],
      "source": [
        "df = df.dropna()\n",
        "df.shape"
      ]
    },
    {
      "cell_type": "code",
      "execution_count": 16,
      "metadata": {
        "colab": {
          "base_uri": "https://localhost:8080/"
        },
        "id": "6l65Ri75Ait7",
        "outputId": "dab90615-d411-4734-94f6-49e6df7dcde3"
      },
      "outputs": [
        {
          "name": "stdout",
          "output_type": "stream",
          "text": [
            "\n",
            "--- Số lượng bản ghi cho mỗi Ticker ---\n",
            "ticker\n",
            "IBM       13104\n",
            "RTX       13104\n",
            "LMT       11392\n",
            "INTC      10583\n",
            "NOC       10130\n",
            "T          9651\n",
            "MSFT       9069\n",
            "NOK        6969\n",
            "MIELY      6366\n",
            "AMZN       6243\n",
            "IFX.DE     5620\n",
            "ONE.V      5453\n",
            "4185.T     5294\n",
            "ACN        5190\n",
            "GOOG       4417\n",
            "BIDU       4174\n",
            "QUBT       3800\n",
            "TOSYY      3063\n",
            "QNC.V      2553\n",
            "IONQ        295\n",
            "RGTI          3\n",
            "Name: count, dtype: int64\n"
          ]
        }
      ],
      "source": [
        "print(\"\\n--- Số lượng bản ghi cho mỗi Ticker ---\")\n",
        "print(df['ticker'].value_counts())"
      ]
    },
    {
      "cell_type": "code",
      "execution_count": 17,
      "metadata": {
        "id": "vtK_xlAiJA3J"
      },
      "outputs": [],
      "source": [
        "df.to_csv(\"quantumn_clean.csv\")"
      ]
    },
    {
      "cell_type": "code",
      "execution_count": null,
      "metadata": {},
      "outputs": [],
      "source": []
    }
  ],
  "metadata": {
    "colab": {
      "provenance": []
    },
    "kernelspec": {
      "display_name": ".venv",
      "language": "python",
      "name": "python3"
    },
    "language_info": {
      "codemirror_mode": {
        "name": "ipython",
        "version": 3
      },
      "file_extension": ".py",
      "mimetype": "text/x-python",
      "name": "python",
      "nbconvert_exporter": "python",
      "pygments_lexer": "ipython3",
      "version": "3.11.13"
    }
  },
  "nbformat": 4,
  "nbformat_minor": 0
}
